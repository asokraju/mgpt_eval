{
 "cells": [
  {
   "cell_type": "markdown",
   "metadata": {},
   "source": [
    "# API Connectivity Debug\n",
    "\n",
    "This notebook tests API connectivity using the actual pipeline classes.\n",
    "Uses real pipeline modules to test API endpoints step by step."
   ]
  },
  {
   "cell_type": "code",
   "execution_count": null,
   "metadata": {},
   "outputs": [],
   "source": [
    "# Import pipeline modules\n",
    "import sys\n",
    "sys.path.append('/home/kosaraju/mgpt-serve/mgpt_eval')\n",
    "\n",
    "from models.config_models import PipelineConfig\n",
    "from pipelines.embedding_pipeline import EmbeddingPipeline\n",
    "from pipelines.evaluation_pipeline import EvaluationPipeline\n",
    "from evaluation.target_word_evaluator import TargetWordEvaluator\n",
    "import pandas as pd"
   ]
  },
  {
   "cell_type": "code",
   "execution_count": null,
   "metadata": {},
   "outputs": [],
   "source": [
    "# Load configuration\n",
    "config_path = \"/home/kosaraju/mgpt-serve/mgpt_eval/configs/pipeline_config.yaml\"\n",
    "config = PipelineConfig.from_yaml(config_path)\n",
    "print(f\"Config loaded: {config.job.job_name}\")\n",
    "print(f\"API endpoint: {config.api.host}:{config.api.port}\")"
   ]
  },
  {
   "cell_type": "code",
   "execution_count": null,
   "metadata": {},
   "outputs": [],
   "source": [
    "# Test embedding pipeline API connectivity\n",
    "embedding_pipeline = EmbeddingPipeline(config)\n",
    "\n",
    "# Create test data\n",
    "test_data = pd.DataFrame({\n",
    "    'mcid': ['TEST_001', 'TEST_002'],\n",
    "    'claims': [\n",
    "        'N6320 G0378 |eoc| Z91048 M1710',\n",
    "        'E119 A1234 |eoc| B5678 C9012'\n",
    "    ],\n",
    "    'label': [1, 1]\n",
    "})\n",
    "\n",
    "print(\"Testing embedding generation...\")\n",
    "try:\n",
    "    # Use the actual pipeline method\n",
    "    embeddings = embedding_pipeline.generate_embeddings(test_data)\n",
    "    print(f\"✓ Embeddings generated: {embeddings.shape}\")\nexcept Exception as e:\n",
    "    print(f\"✗ Embedding generation failed: {e}\")"
   ]
  },
  {
   "cell_type": "code",
   "execution_count": null,
   "metadata": {},
   "outputs": [],
   "source": [
    "# Test target word evaluator API connectivity\n",
    "target_evaluator = TargetWordEvaluator(config)\n",
    "\n",
    "print(\"Testing target word evaluation...\")\n",
    "test_claim = \"N6320 G0378 |eoc| Z91048 M1710\"\n",
    "\n",
    "try:\n",
    "    # Use the actual evaluator method\n",
    "    result = target_evaluator.evaluate_sample(test_claim)\n",
    "    print(f\"✓ Target word evaluation completed\")\n",
    "    print(f\"  Prediction: {result.get('prediction', 'N/A')}\")\n",
    "    print(f\"  Has target: {result.get('has_target', 'N/A')}\")\nexcept Exception as e:\n",
    "    print(f\"✗ Target word evaluation failed: {e}\")"
   ]
  },
  {
   "cell_type": "code",
   "execution_count": null,
   "metadata": {},
   "outputs": [],
   "source": [
    "# Test evaluation pipeline\n",
    "evaluation_pipeline = EvaluationPipeline(config)\n",
    "\n",
    "print(\"Testing evaluation pipeline...\")\n",
    "try:\n",
    "    # Use the actual pipeline run method\n",
    "    results = evaluation_pipeline.run(test_data)\n",
    "    print(f\"✓ Evaluation pipeline completed\")\n",
    "    print(f\"  Results keys: {list(results.keys()) if isinstance(results, dict) else 'N/A'}\")\nexcept Exception as e:\n",
    "    print(f\"✗ Evaluation pipeline failed: {e}\")"
   ]
  },
  {
   "cell_type": "code",
   "execution_count": null,
   "metadata": {},
   "outputs": [],
   "source": [
    "# Debug API connection issues\n",
    "print(\"=== API Debug Info ===\")\n",
    "print(f\"Config API host: {config.api.host}\")\n",
    "print(f\"Config API port: {config.api.port}\")\n",
    "\n",
    "# Check if pipeline classes have API connection methods\n",
    "print(f\"\\nEmbedding pipeline methods: {[m for m in dir(embedding_pipeline) if not m.startswith('_')]}\")\n",
    "print(f\"Target evaluator methods: {[m for m in dir(target_evaluator) if not m.startswith('_')]}\")"
   ]
  }
 ],
 "metadata": {
  "kernelspec": {
   "display_name": "Python 3",
   "language": "python",
   "name": "python3"
  },
  "language_info": {
   "codemirror_mode": {
    "name": "ipython",
    "version": 3
   },
   "file_extension": ".py",
   "mimetype": "text/x-python",
   "name": "python",
   "nbconvert_exporter": "python",
   "pygments_lexer": "ipython3",
   "version": "3.8.5"
  }
 },
 "nbformat": 4,
 "nbformat_minor": 4
}