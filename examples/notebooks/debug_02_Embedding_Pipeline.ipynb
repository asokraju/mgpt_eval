{
 "cells": [
  {
   "cell_type": "markdown",
   "metadata": {},
   "source": [
    "# Embedding Pipeline Debug\n",
    "\n",
    "This notebook debugs the embedding pipeline using the actual EmbeddingPipeline class.\n",
    "Tests embedding generation step by step using real pipeline methods."
   ]
  },
  {
   "cell_type": "code",
   "execution_count": null,
   "metadata": {},
   "outputs": [],
   "source": [
    "# Import pipeline modules\n",
    "import sys\n",
    "sys.path.append('/home/kosaraju/mgpt-serve/mgpt_eval')\n",
    "\n",
    "from models.config_models import PipelineConfig\n",
    "from pipelines.embedding_pipeline import EmbeddingPipeline\n",
    "from models.data_models import DataSample, DataBatch\n",
    "import pandas as pd\n",
    "import numpy as np"
   ]
  },
  {
   "cell_type": "code",
   "execution_count": null,
   "metadata": {},
   "outputs": [],
   "source": [
    "# Load configuration\n",
    "config_path = \"/home/kosaraju/mgpt-serve/mgpt_eval/configs/examples/config_embeddings_only.yaml\"\n",
    "config = PipelineConfig.from_yaml(config_path)\n",
    "print(f\"Config loaded: {config.job.job_name}\")\n",
    "print(f\"Embedding config: {config.embedding}\")"
   ]
  },
  {
   "cell_type": "code",
   "execution_count": null,
   "metadata": {},
   "outputs": [],
   "source": [
    "# Initialize embedding pipeline\n",
    "embedding_pipeline = EmbeddingPipeline(config)\n",
    "print(f\"Embedding pipeline initialized\")\n",
    "print(f\"Pipeline methods: {[m for m in dir(embedding_pipeline) if not m.startswith('_') and callable(getattr(embedding_pipeline, m))]}\")"
   ]
  },
  {
   "cell_type": "code",
   "execution_count": null,
   "metadata": {},
   "outputs": [],
   "source": [
    "# Create test dataset\n",
    "test_data = pd.DataFrame({\n",
    "    'mcid': ['EMB_001', 'EMB_002', 'EMB_003', 'EMB_004', 'EMB_005'],\n",
    "    'claims': [\n",
    "        'N6320 G0378 |eoc| Z91048 M1710',\n",
    "        'E119 A1234 |eoc| B5678 C9012',\n",
    "        'Z03818 D3456 |eoc| F7890 G1234',\n",
    "        'H5678 I9012 |eoc| J1234 K5678',\n",
    "        'L9012 M3456 |eoc| N6320 O7890'\n",
    "    ],\n",
    "    'label': [1, 1, 1, 0, 1]\n",
    "})\n",
    "\n",
    "print(f\"Test data created: {len(test_data)} samples\")\n",
    "print(test_data.head())"
   ]
  },
  {
   "cell_type": "code",
   "execution_count": null,
   "metadata": {},
   "outputs": [],
   "source": [
    "# Test single sample embedding\n",
    "print(\"Testing single sample embedding...\")\n",
    "sample_claims = test_data.iloc[0]['claims']\n",
    "print(f\"Sample claims: {sample_claims}\")\n",
    "\n",
    "try:\n",
    "    # Check if pipeline has single sample method\n",
    "    if hasattr(embedding_pipeline, 'generate_embedding'):\n",
    "        embedding = embedding_pipeline.generate_embedding(sample_claims)\n",
    "        print(f\"✓ Single embedding generated: shape {embedding.shape if hasattr(embedding, 'shape') else len(embedding)}\")\n",
    "    else:\n",
    "        print(\"No single sample embedding method found\")\nexcept Exception as e:\n",
    "    print(f\"✗ Single embedding failed: {e}\")"
   ]
  },
  {
   "cell_type": "code",
   "execution_count": null,
   "metadata": {},
   "outputs": [],
   "source": [
    "# Test batch embedding generation\n",
    "print(\"Testing batch embedding generation...\")\n",
    "\n",
    "try:\n",
    "    # Use the main pipeline method\n",
    "    embeddings = embedding_pipeline.generate_embeddings(test_data)\n",
    "    print(f\"✓ Batch embeddings generated\")\n",
    "    print(f\"  Shape: {embeddings.shape if hasattr(embeddings, 'shape') else 'No shape attr'}\")\n",
    "    print(f\"  Type: {type(embeddings)}\")\n",
    "    \n",
    "    # Check first few values\n",
    "    if hasattr(embeddings, 'shape') and len(embeddings.shape) == 2:\n",
    "        print(f\"  First embedding sample (first 5 dims): {embeddings[0][:5]}\")\n",
    "        \nexcept Exception as e:\n",
    "    print(f\"✗ Batch embedding failed: {e}\")\n",
    "    import traceback\n",
    "    traceback.print_exc()"
   ]
  },
  {
   "cell_type": "code",
   "execution_count": null,
   "metadata": {},
   "outputs": [],
   "source": [
    "# Test pipeline run method\n",
    "print(\"Testing embedding pipeline run method...\")\n",
    "\n",
    "try:\n",
    "    # Use the main run method\n",
    "    results = embedding_pipeline.run(test_data)\n",
    "    print(f\"✓ Pipeline run completed\")\n",
    "    print(f\"  Results type: {type(results)}\")\n",
    "    print(f\"  Results keys: {list(results.keys()) if isinstance(results, dict) else 'Not a dict'}\")\n",
    "    \n",
    "    if isinstance(results, dict):\n",
    "        for key, value in results.items():\n",
    "            print(f\"    {key}: {type(value)} - {getattr(value, 'shape', len(value)) if hasattr(value, '__len__') else 'scalar'}\")\n",
    "            \nexcept Exception as e:\n",
    "    print(f\"✗ Pipeline run failed: {e}\")\n",
    "    import traceback\n",
    "    traceback.print_exc()"
   ]
  },
  {
   "cell_type": "code",
   "execution_count": null,
   "metadata": {},
   "outputs": [],
   "source": [
    "# Debug embedding pipeline internals\n",
    "print(\"=== Embedding Pipeline Debug ===\")\n",
    "\n",
    "# Check pipeline attributes\n",
    "print(f\"Pipeline config: {hasattr(embedding_pipeline, 'config')}\")\n",
    "print(f\"Pipeline logger: {hasattr(embedding_pipeline, 'logger')}\")\n",
    "print(f\"Pipeline API client: {hasattr(embedding_pipeline, 'api_client')}\")\n",
    "\n",
    "# Check configuration\n",
    "if hasattr(embedding_pipeline, 'config'):\n",
    "    print(f\"\\nConfig API: {embedding_pipeline.config.api}\")\n",
    "    print(f\"Config embedding: {embedding_pipeline.config.embedding}\")\n",
    "\n",
    "# Check all methods and attributes\n",
    "all_attrs = [attr for attr in dir(embedding_pipeline) if not attr.startswith('_')]\n",
    "methods = [attr for attr in all_attrs if callable(getattr(embedding_pipeline, attr))]\n",
    "properties = [attr for attr in all_attrs if not callable(getattr(embedding_pipeline, attr))]\n",
    "\n",
    "print(f\"\\nMethods: {methods}\")\n",
    "print(f\"Properties: {properties}\")"
   ]
  },
  {
   "cell_type": "code",
   "execution_count": null,
   "metadata": {},
   "outputs": [],
   "source": [
    "# Test with different data formats\n",
    "print(\"Testing different data formats...\")\n",
    "\n",
    "# Test with DataSample objects\n",
    "try:\n",
    "    sample = DataSample(\n",
    "        mcid=\"SAMPLE_001\",\n",
    "        claims=\"N6320 G0378 |eoc| Z91048 M1710\",\n",
    "        label=1\n",
    "    )\n",
    "    print(f\"DataSample created: {sample}\")\n",
    "    \n",
    "    # Check if pipeline can handle DataSample\n",
    "    if hasattr(embedding_pipeline, 'process_sample'):\n",
    "        result = embedding_pipeline.process_sample(sample)\n",
    "        print(f\"✓ DataSample processed: {type(result)}\")\n",
    "    else:\n",
    "        print(\"No process_sample method found\")\n",
    "        \nexcept Exception as e:\n",
    "    print(f\"✗ DataSample processing failed: {e}\")\n",
    "\n",
    "# Test with DataBatch\n",
    "try:\n",
    "    batch = DataBatch(samples=[test_data.iloc[i] for i in range(min(3, len(test_data)))])\n",
    "    print(f\"DataBatch created with {len(batch.samples)} samples\")\n",
    "    \n",
    "    if hasattr(embedding_pipeline, 'process_batch'):\n",
    "        result = embedding_pipeline.process_batch(batch)\n",
    "        print(f\"✓ DataBatch processed: {type(result)}\")\n",
    "    else:\n",
    "        print(\"No process_batch method found\")\n",
    "        \nexcept Exception as e:\n",
    "    print(f\"✗ DataBatch processing failed: {e}\")"
   ]
  }
 ],
 "metadata": {
  "kernelspec": {
   "display_name": "Python 3",
   "language": "python",
   "name": "python3"
  },
  "language_info": {
   "codemirror_mode": {
    "name": "ipython",
    "version": 3
   },
   "file_extension": ".py",
   "mimetype": "text/x-python",
   "name": "python",
   "nbconvert_exporter": "python",
   "pygments_lexer": "ipython3",
   "version": "3.8.5"
  }
 },
 "nbformat": 4,
 "nbformat_minor": 4
}